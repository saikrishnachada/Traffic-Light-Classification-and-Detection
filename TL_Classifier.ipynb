{
  "nbformat": 4,
  "nbformat_minor": 0,
  "metadata": {
    "colab": {
      "name": "TL_Classifier.ipynb",
      "provenance": [],
      "collapsed_sections": []
    },
    "kernelspec": {
      "name": "python3",
      "display_name": "Python 3"
    },
    "accelerator": "GPU"
  },
  "cells": [
    {
      "cell_type": "code",
      "metadata": {
        "id": "zJNpuDrE4gND",
        "colab_type": "code",
        "colab": {}
      },
      "source": [
        "!git clone --quiet https://github.com/tensorflow/models.git tf_models\n",
        "  \n",
        "!cp -r tf_models/research/object_detection object_detection/\n",
        "\n",
        "!cp -r tf_models/research/slim slim/\n",
        "\n",
        "!cp tfd/model_main.py object_detection/model_main.py\n",
        "\n",
        "!rm -rf tfd\n",
        "\n",
        "!rm -rf tf_models\n",
        "\n",
        "!apt-get install -qq protobuf-compiler python-tk\n",
        "\n",
        "!pip install -q Cython contextlib2 pillow lxml matplotlib PyDrive\n",
        "\n",
        "!pip install -q pycocotools\n",
        "\n",
        "!git clone https://github.com/cocodataset/cocoapi.git\n",
        "\n",
        "%cd cocoapi/PythonAPI\n",
        "\n",
        "!make\n",
        "\n",
        "%cd /content\n",
        "\n",
        "!cp -r cocoapi/PythonAPI/pycocotools pycocotools/\n",
        "\n",
        "!rm -rf cocoapi\n",
        "\n",
        "!protoc object_detection/protos/*.proto --python_out=.\n",
        "\n",
        "%set_env PYTHONPATH=/content:/content/slim\n"
      ],
      "execution_count": null,
      "outputs": []
    },
    {
      "cell_type": "code",
      "metadata": {
        "id": "URS68OKY-an5",
        "colab_type": "code",
        "colab": {}
      },
      "source": [
        "!pip install tensorflow-gpu==1.14\n",
        "!pip install tensorflow==1.15\n",
        "!pip install keras==2.0.8\n",
        "!pip install Pillow==2.2.1\n",
        "!pip install h5py==2.6.0"
      ],
      "execution_count": null,
      "outputs": []
    },
    {
      "cell_type": "code",
      "metadata": {
        "id": "idMAdSYozG-F",
        "colab_type": "code",
        "colab": {}
      },
      "source": [
        "!pip install tf_slim\n",
        "!python object_detection/builders/model_builder_test.py"
      ],
      "execution_count": null,
      "outputs": []
    },
    {
      "cell_type": "code",
      "metadata": {
        "id": "GzIKKGySAFeC",
        "colab_type": "code",
        "colab": {}
      },
      "source": [
        "import os\n",
        "from zipfile import ZipFile\n",
        "from shutil import copy\n",
        "from pydrive.auth import GoogleAuth\n",
        "from pydrive.drive import GoogleDrive\n",
        "from google.colab import auth\n",
        "from oauth2client.client import GoogleCredentials\n",
        "\n",
        "auth.authenticate_user()\n",
        "gauth = GoogleAuth()\n",
        "gauth.credentials = GoogleCredentials.get_application_default()\n",
        "drive = GoogleDrive(gauth)\n",
        "\n",
        "train_file_id = '1orq0y-8GtfOWl1tBko03rSZT7b3sVfBf' \n",
        "eval_file_id = '18nLlxkdJtwfbOaFvpdLhJXrknfzwNNKw'\n",
        "pbtxt_file_id = '1Dgz6t1fTvhNaxrmfXaPFB4-BYG6XVVXd'\n",
        "config_file_id = '15PYisbZr1tzcEJQtI6Z-qtlhWZysHIuP'\n",
        "\n",
        "\n",
        "data_dir = 'data'\n",
        "config_dir = 'config'\n",
        "\n",
        "if not os.path.isdir(data_dir):\n",
        "  os.makedirs(data_dir)\n",
        "\n",
        "downloaded = drive.CreateFile({'id': train_file_id})\n",
        "downloaded.GetContentFile(os.path.join(data_dir, 'train.record'))\n",
        "\n",
        "downloaded = drive.CreateFile({'id': eval_file_id})\n",
        "downloaded.GetContentFile(os.path.join(data_dir, 'eval.record'))\n",
        "\n",
        "downloaded = drive.CreateFile({'id': pbtxt_file_id})\n",
        "downloaded.GetContentFile(os.path.join(data_dir, 'udacity_label_map.pbtxt'))\n",
        "\n",
        "if not os.path.isdir(config_dir):\n",
        "  os.makedirs(config_dir)\n",
        "\n",
        "downloaded = drive.CreateFile({'id': config_file_id})\n",
        "downloaded.GetContentFile(os.path.join(config_dir, 'ssd_inception_v2_coco_udacity.config'))\n",
        "\n"
      ],
      "execution_count": null,
      "outputs": []
    },
    {
      "cell_type": "code",
      "metadata": {
        "id": "kAauJoyPAJc_",
        "colab_type": "code",
        "colab": {}
      },
      "source": [
        "import urllib.request\n",
        "import tarfile\n",
        "\n",
        "MODEL_NAME =  'ssd_inception_v2_coco_2017_11_17' #'ssd_mobilenet_v1_coco_11_06_2017' #'ssd_mobilenet_v1_coco_2018_01_28'  # use this in case the other is incompatible w/ TF 1.3\n",
        "MODEL_FILE = MODEL_NAME + '.tar.gz'\n",
        "MODEL_URL = 'http://download.tensorflow.org/models/object_detection/' + MODEL_FILE\n",
        "\n",
        "MODELS_DIR = 'models'\n",
        "\n",
        "if not os.path.isdir(MODELS_DIR):\n",
        "  os.makedirs(MODELS_DIR)\n",
        "\n",
        "if not os.path.exists(MODEL_FILE):\n",
        "  urllib.request.urlretrieve(MODEL_URL, MODEL_FILE)\n",
        "\n",
        "tar = tarfile.open(MODEL_FILE)\n",
        "tar.extractall()\n",
        "tar.close()\n",
        "\n",
        "os.remove(MODEL_FILE)\n",
        "os.rename(MODEL_NAME, os.path.join(MODELS_DIR, MODEL_NAME))"
      ],
      "execution_count": null,
      "outputs": []
    },
    {
      "cell_type": "code",
      "metadata": {
        "id": "tVtty_X6zF-2",
        "colab_type": "code",
        "colab": {}
      },
      "source": [
        "FINE_TUNED_DIR = os.path.join(MODELS_DIR, 'fine_tuned')\n",
        "\n",
        "if not os.path.isdir(FINE_TUNED_DIR):\n",
        "  os.makedirs(FINE_TUNED_DIR)\n",
        "\n",
        "!python object_detection/model_main.py \\\n",
        "        --pipeline_config_path=config/ssd_inception_v2_coco_udacity.config \\\n",
        "        --model_dir=models/fine_tuned/ssd_inception_v2_coco_udacity \\\n"
      ],
      "execution_count": null,
      "outputs": []
    },
    {
      "cell_type": "code",
      "metadata": {
        "id": "YHFlTsUlKrcm",
        "colab_type": "code",
        "colab": {}
      },
      "source": [
        "# To load tensorboard and plot the graphs\n",
        "%load_ext tensorboard\n",
        "%tensorboard --logdir='models/fine_tuned/ssd_inception_v2_coco_udacity'"
      ],
      "execution_count": null,
      "outputs": []
    },
    {
      "cell_type": "code",
      "metadata": {
        "id": "KHz8xrFfG2kb",
        "colab_type": "code",
        "colab": {}
      },
      "source": [
        "## To download the trained models \n",
        "# !zip -r models/fine_tuned/ssd_inception_v2_coco_udacity.zip models/fine_tuned/ssd_inception_v2_coco_udacity\n",
        "# from google.colab import files\n",
        "# files.download(\"models/fine_tuned/ssd_inception_v2_coco_udacity.zip\")\n",
        "# files.download(\"models/fine_tuned/ssd_mobilenet/model.ckpt\")"
      ],
      "execution_count": null,
      "outputs": []
    },
    {
      "cell_type": "code",
      "metadata": {
        "id": "wjIqhT7p_Ses",
        "colab_type": "code",
        "colab": {}
      },
      "source": [
        "# Replace xxxx with the last saved checkpoint and export the frozen inference graph\n",
        "!python export_inference_graph.py --input_type image_tensor --pipeline_config_path config/ssd_inception_v2_coco_udacity.config --trained_checkpoint_prefix models/fine_tuned/ssd_inception_v2_coco_udacity/model.ckpt-xxxx --output_directory models/checkpoint"
      ],
      "execution_count": null,
      "outputs": []
    }
  ]
}