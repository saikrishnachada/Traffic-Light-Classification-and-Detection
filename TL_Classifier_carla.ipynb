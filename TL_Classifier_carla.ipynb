{
  "nbformat": 4,
  "nbformat_minor": 0,
  "metadata": {
    "colab": {
      "name": "TL_Classifier_carla.ipynb",
      "provenance": [],
      "collapsed_sections": [],
      "authorship_tag": "ABX9TyM+SGx8VyVg+JpijWUpJD6E",
      "include_colab_link": true
    },
    "kernelspec": {
      "name": "python3",
      "display_name": "Python 3"
    },
    "accelerator": "GPU"
  },
  "cells": [
    {
      "cell_type": "markdown",
      "metadata": {
        "id": "view-in-github",
        "colab_type": "text"
      },
      "source": [
        "<a href=\"https://colab.research.google.com/github/saikrishnachada/Traffic-Light-Classification-and-Detection/blob/master/TL_Classifier_carla.ipynb\" target=\"_parent\"><img src=\"https://colab.research.google.com/assets/colab-badge.svg\" alt=\"Open In Colab\"/></a>"
      ]
    },
    {
      "cell_type": "code",
      "metadata": {
        "id": "jJ5y1-xEgRxk",
        "colab_type": "code",
        "colab": {}
      },
      "source": [
        "!git clone --quiet https://github.com/tensorflow/models.git tf_models\n",
        "  \n",
        "!cp -r tf_models/research/object_detection object_detection/\n",
        "\n",
        "!cp -r tf_models/research/slim slim/\n",
        "\n",
        "!cp tfd/model_main.py object_detection/model_main.py\n",
        "\n",
        "!rm -rf tfd\n",
        "\n",
        "!rm -rf tf_models\n",
        "\n",
        "!apt-get install -qq protobuf-compiler python-tk\n",
        "\n",
        "!pip install -q Cython contextlib2 pillow lxml matplotlib PyDrive\n",
        "\n",
        "!pip install -q pycocotools\n",
        "\n",
        "!git clone https://github.com/cocodataset/cocoapi.git\n",
        "\n",
        "%cd cocoapi/PythonAPI\n",
        "\n",
        "!make\n",
        "\n",
        "%cd /content\n",
        "\n",
        "!cp -r cocoapi/PythonAPI/pycocotools pycocotools/\n",
        "\n",
        "!rm -rf cocoapi\n",
        "\n",
        "!protoc object_detection/protos/*.proto --python_out=.\n",
        "\n",
        "%set_env PYTHONPATH=/content:/content/slim"
      ],
      "execution_count": null,
      "outputs": []
    },
    {
      "cell_type": "code",
      "metadata": {
        "id": "qQ2HZGragcZJ",
        "colab_type": "code",
        "colab": {}
      },
      "source": [
        "!pip install tensorflow-gpu==1.14\n",
        "!pip install tensorflow==1.15\n",
        "!pip install keras==2.0.8\n",
        "!pip install Pillow==2.2.1\n",
        "!pip install h5py==2.6.0"
      ],
      "execution_count": null,
      "outputs": []
    },
    {
      "cell_type": "code",
      "metadata": {
        "id": "SZWI7zfKgeeL",
        "colab_type": "code",
        "colab": {
          "base_uri": "https://localhost:8080/",
          "height": 150
        },
        "outputId": "bdfc8ffb-8f0d-4217-d885-1e884ebef85a"
      },
      "source": [
        "!pip install tf_slim\n",
        "!python object_detection/builders/model_builder_test.py"
      ],
      "execution_count": 1,
      "outputs": [
        {
          "output_type": "stream",
          "text": [
            "Collecting tf_slim\n",
            "\u001b[?25l  Downloading https://files.pythonhosted.org/packages/02/97/b0f4a64df018ca018cc035d44f2ef08f91e2e8aa67271f6f19633a015ff7/tf_slim-1.1.0-py2.py3-none-any.whl (352kB)\n",
            "\r\u001b[K     |█                               | 10kB 22.3MB/s eta 0:00:01\r\u001b[K     |█▉                              | 20kB 28.1MB/s eta 0:00:01\r\u001b[K     |██▉                             | 30kB 30.2MB/s eta 0:00:01\r\u001b[K     |███▊                            | 40kB 32.2MB/s eta 0:00:01\r\u001b[K     |████▋                           | 51kB 16.3MB/s eta 0:00:01\r\u001b[K     |█████▋                          | 61kB 13.9MB/s eta 0:00:01\r\u001b[K     |██████▌                         | 71kB 12.5MB/s eta 0:00:01\r\u001b[K     |███████▌                        | 81kB 13.6MB/s eta 0:00:01\r\u001b[K     |████████▍                       | 92kB 14.8MB/s eta 0:00:01\r\u001b[K     |█████████▎                      | 102kB 13.0MB/s eta 0:00:01\r\u001b[K     |██████████▎                     | 112kB 13.0MB/s eta 0:00:01\r\u001b[K     |███████████▏                    | 122kB 13.0MB/s eta 0:00:01\r\u001b[K     |████████████                    | 133kB 13.0MB/s eta 0:00:01\r\u001b[K     |█████████████                   | 143kB 13.0MB/s eta 0:00:01\r\u001b[K     |██████████████                  | 153kB 13.0MB/s eta 0:00:01\r\u001b[K     |███████████████                 | 163kB 13.0MB/s eta 0:00:01\r\u001b[K     |███████████████▉                | 174kB 13.0MB/s eta 0:00:01\r\u001b[K     |████████████████▊               | 184kB 13.0MB/s eta 0:00:01\r\u001b[K     |█████████████████▊              | 194kB 13.0MB/s eta 0:00:01\r\u001b[K     |██████████████████▋             | 204kB 13.0MB/s eta 0:00:01\r\u001b[K     |███████████████████▌            | 215kB 13.0MB/s eta 0:00:01\r\u001b[K     |████████████████████▌           | 225kB 13.0MB/s eta 0:00:01\r\u001b[K     |█████████████████████▍          | 235kB 13.0MB/s eta 0:00:01\r\u001b[K     |██████████████████████▍         | 245kB 13.0MB/s eta 0:00:01\r\u001b[K     |███████████████████████▎        | 256kB 13.0MB/s eta 0:00:01\r\u001b[K     |████████████████████████▏       | 266kB 13.0MB/s eta 0:00:01\r\u001b[K     |█████████████████████████▏      | 276kB 13.0MB/s eta 0:00:01\r\u001b[K     |██████████████████████████      | 286kB 13.0MB/s eta 0:00:01\r\u001b[K     |███████████████████████████     | 296kB 13.0MB/s eta 0:00:01\r\u001b[K     |████████████████████████████    | 307kB 13.0MB/s eta 0:00:01\r\u001b[K     |████████████████████████████▉   | 317kB 13.0MB/s eta 0:00:01\r\u001b[K     |█████████████████████████████▉  | 327kB 13.0MB/s eta 0:00:01\r\u001b[K     |██████████████████████████████▊ | 337kB 13.0MB/s eta 0:00:01\r\u001b[K     |███████████████████████████████▋| 348kB 13.0MB/s eta 0:00:01\r\u001b[K     |████████████████████████████████| 358kB 13.0MB/s \n",
            "\u001b[?25hRequirement already satisfied: absl-py>=0.2.2 in /usr/local/lib/python3.6/dist-packages (from tf_slim) (0.9.0)\n",
            "Requirement already satisfied: six in /usr/local/lib/python3.6/dist-packages (from absl-py>=0.2.2->tf_slim) (1.12.0)\n",
            "Installing collected packages: tf-slim\n",
            "Successfully installed tf-slim-1.1.0\n",
            "python3: can't open file 'object_detection/builders/model_builder_test.py': [Errno 2] No such file or directory\n"
          ],
          "name": "stdout"
        }
      ]
    },
    {
      "cell_type": "code",
      "metadata": {
        "id": "QwvYGIdegfAT",
        "colab_type": "code",
        "colab": {}
      },
      "source": [
        "import os\n",
        "from zipfile import ZipFile\n",
        "from shutil import copy\n",
        "from pydrive.auth import GoogleAuth\n",
        "from pydrive.drive import GoogleDrive\n",
        "from google.colab import auth\n",
        "from oauth2client.client import GoogleCredentials\n",
        "\n",
        "auth.authenticate_user()\n",
        "gauth = GoogleAuth()\n",
        "gauth.credentials = GoogleCredentials.get_application_default()\n",
        "drive = GoogleDrive(gauth)\n",
        "\n",
        "# IDs for real parking lot image datasets\n",
        "train_file_id = '1cqCUTsAmUyhnsUN1YD10yKPpuskilBET'\n",
        "eval_file_id = '1e0GaqZluwK9M8Y0b8xX4ud1UIDykIqXK'\n",
        "pbtxt_file_id = '1ySSx3UBskt9nV67xLpR4L5tMrvRRet0t'\n",
        "config_file_id = '1LUPypoKUszhEVCD47xVTnh6MGwtnzKfJ'\n",
        "\n",
        "data_dir = 'data'\n",
        "config_dir = 'config'\n",
        "\n",
        "if not os.path.isdir(data_dir):\n",
        "  os.makedirs(data_dir)\n",
        "\n",
        "downloaded = drive.CreateFile({'id': train_file_id})\n",
        "downloaded.GetContentFile(os.path.join(data_dir, 'train.record'))\n",
        "\n",
        "downloaded = drive.CreateFile({'id': eval_file_id})\n",
        "downloaded.GetContentFile(os.path.join(data_dir, 'eval.record'))\n",
        "\n",
        "downloaded = drive.CreateFile({'id': pbtxt_file_id})\n",
        "downloaded.GetContentFile(os.path.join(data_dir, 'label_map_common.pbtxt'))\n",
        "\n",
        "if not os.path.isdir(config_dir):\n",
        "  os.makedirs(config_dir)\n",
        "\n",
        "downloaded = drive.CreateFile({'id': config_file_id})\n",
        "downloaded.GetContentFile(os.path.join(config_dir, 'ssd_inception_v2_coco_carla.config'))"
      ],
      "execution_count": 6,
      "outputs": []
    },
    {
      "cell_type": "code",
      "metadata": {
        "id": "FfGmvchvjjtE",
        "colab_type": "code",
        "colab": {}
      },
      "source": [
        "import urllib.request\n",
        "import tarfile\n",
        "\n",
        "MODEL_NAME =  'ssd_inception_v2_coco_2017_11_17' #'ssd_mobilenet_v1_coco_11_06_2017' #'ssd_mobilenet_v1_coco_2018_01_28'  # use this in case the other is incompatible w/ TF 1.3\n",
        "MODEL_FILE = MODEL_NAME + '.tar.gz'\n",
        "MODEL_URL = 'http://download.tensorflow.org/models/object_detection/' + MODEL_FILE\n",
        "\n",
        "MODELS_DIR = 'models'\n",
        "\n",
        "if not os.path.isdir(MODELS_DIR):\n",
        "  os.makedirs(MODELS_DIR)\n",
        "\n",
        "if not os.path.exists(MODEL_FILE):\n",
        "  urllib.request.urlretrieve(MODEL_URL, MODEL_FILE)\n",
        "\n",
        "tar = tarfile.open(MODEL_FILE)\n",
        "tar.extractall()\n",
        "tar.close()\n",
        "\n",
        "os.remove(MODEL_FILE)\n",
        "os.rename(MODEL_NAME, os.path.join(MODELS_DIR, MODEL_NAME))"
      ],
      "execution_count": 7,
      "outputs": []
    },
    {
      "cell_type": "code",
      "metadata": {
        "id": "gQ4mAdzHjmYF",
        "colab_type": "code",
        "colab": {}
      },
      "source": [
        "FINE_TUNED_DIR = os.path.join(MODELS_DIR, 'fine_tuned')\n",
        "\n",
        "if not os.path.isdir(FINE_TUNED_DIR):\n",
        "  os.makedirs(FINE_TUNED_DIR)\n",
        "\n",
        "!python object_detection/model_main.py \\\n",
        "        --pipeline_config_path=config/ssd_inception_v2_coco_carla.config \\\n",
        "        --model_dir=models/fine_tuned/ssd_inception_v2_coco_carla \\"
      ],
      "execution_count": null,
      "outputs": []
    },
    {
      "cell_type": "code",
      "metadata": {
        "id": "99aa7-dTjuut",
        "colab_type": "code",
        "colab": {}
      },
      "source": [
        "# To load tensorboard and plot the graphs\n",
        "%load_ext tensorboard\n",
        "%tensorboard --logdir='models/fine_tuned/ssd_inception_v2_coco_carla'"
      ],
      "execution_count": null,
      "outputs": []
    },
    {
      "cell_type": "code",
      "metadata": {
        "id": "UPFJFGRpjz_B",
        "colab_type": "code",
        "colab": {}
      },
      "source": [
        "# Replace xxxx with the last saved checkpoint and export the frozen inference graph\n",
        "!python object_detection/export_inference_graph.py --input_type image_tensor --pipeline_config_path config/ssd_inception_v2_coco_carla.config --trained_checkpoint_prefix models/fine_tuned/ssd_inception_v2_coco_carla/model.ckpt-20000 --output_directory models/checkpoint"
      ],
      "execution_count": null,
      "outputs": []
    },
    {
      "cell_type": "code",
      "metadata": {
        "id": "nLNlvQFejxSn",
        "colab_type": "code",
        "colab": {}
      },
      "source": [
        "## To download the trained models \n",
        "!zip -r models/checkpoint.zip models/checkpoint\n",
        "from google.colab import files\n",
        "files.download(\"models/checkpoint.zip\")"
      ],
      "execution_count": null,
      "outputs": []
    }
  ]
}